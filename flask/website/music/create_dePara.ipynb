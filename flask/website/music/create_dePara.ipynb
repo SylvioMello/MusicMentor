{
 "cells": [
  {
   "cell_type": "code",
   "execution_count": 3,
   "metadata": {},
   "outputs": [],
   "source": [
    "%pip install tekore"
   ]
  },
  {
   "cell_type": "code",
   "execution_count": 11,
   "metadata": {},
   "outputs": [],
   "source": [
    "import tekore as tk\n",
    "import pandas as pd\n",
    "from auth import authorize\n",
    "from time import sleep\n",
    "\n",
    "sp = authorize()\n"
   ]
  },
  {
   "cell_type": "code",
   "execution_count": 12,
   "metadata": {},
   "outputs": [
    {
     "data": {
      "text/plain": [
       "170653"
      ]
     },
     "execution_count": 12,
     "metadata": {},
     "output_type": "execute_result"
    }
   ],
   "source": [
    "# Leia o dataset contendo as IDs das músicas (supondo que esteja em formato CSV)\n",
    "full_dataset = pd.read_csv('spotify_data\\data.csv')\n",
    "\n",
    "# Acesse a coluna que contém as IDs das músicas\n",
    "track_ids = full_dataset['id']\n",
    "\n",
    "len(track_ids)\n"
   ]
  },
  {
   "cell_type": "code",
   "execution_count": 13,
   "metadata": {},
   "outputs": [
    {
     "ename": "TooManyRequests",
     "evalue": "Error in https://api.spotify.com/v1/tracks/4BJqT0PrAfrxzMOxytFOIz:\n429: \n",
     "output_type": "error",
     "traceback": [
      "\u001b[1;31m---------------------------------------------------------------------------\u001b[0m",
      "\u001b[1;31mTooManyRequests\u001b[0m                           Traceback (most recent call last)",
      "\u001b[1;32mc:\\Users\\Heliomar\\Documents\\PA_Grupo\\MusicMentor\\flask\\website\\music\\create_dePara.ipynb Cell 4\u001b[0m in \u001b[0;36m<cell line: 3>\u001b[1;34m()\u001b[0m\n\u001b[0;32m      <a href='vscode-notebook-cell:/c%3A/Users/Heliomar/Documents/PA_Grupo/MusicMentor/flask/website/music/create_dePara.ipynb#W2sZmlsZQ%3D%3D?line=4'>5</a>\u001b[0m \u001b[39mtry\u001b[39;00m:\n\u001b[1;32m----> <a href='vscode-notebook-cell:/c%3A/Users/Heliomar/Documents/PA_Grupo/MusicMentor/flask/website/music/create_dePara.ipynb#W2sZmlsZQ%3D%3D?line=5'>6</a>\u001b[0m     track_info \u001b[39m=\u001b[39m sp\u001b[39m.\u001b[39;49mtrack(track_id)\n\u001b[0;32m      <a href='vscode-notebook-cell:/c%3A/Users/Heliomar/Documents/PA_Grupo/MusicMentor/flask/website/music/create_dePara.ipynb#W2sZmlsZQ%3D%3D?line=6'>7</a>\u001b[0m \u001b[39mexcept\u001b[39;00m:\n",
      "File \u001b[1;32mc:\\Users\\Heliomar\\Desktop\\clustering\\lib\\site-packages\\tekore\\_sender\\client.py:90\u001b[0m, in \u001b[0;36msend_and_process.<locals>.decorator.<locals>.wrapper\u001b[1;34m(self, *args, **kwargs)\u001b[0m\n\u001b[0;32m     89\u001b[0m response \u001b[39m=\u001b[39m \u001b[39mself\u001b[39m\u001b[39m.\u001b[39msend(request)\n\u001b[1;32m---> 90\u001b[0m \u001b[39mreturn\u001b[39;00m try_post_func(request, response, \u001b[39m*\u001b[39;49mparams)\n",
      "File \u001b[1;32mc:\\Users\\Heliomar\\Desktop\\clustering\\lib\\site-packages\\tekore\\_sender\\client.py:71\u001b[0m, in \u001b[0;36msend_and_process.<locals>.decorator.<locals>.try_post_func\u001b[1;34m(*args, **kwargs)\u001b[0m\n\u001b[0;32m     70\u001b[0m \u001b[39mtry\u001b[39;00m:\n\u001b[1;32m---> 71\u001b[0m     \u001b[39mreturn\u001b[39;00m post_func(\u001b[39m*\u001b[39margs, \u001b[39m*\u001b[39m\u001b[39m*\u001b[39mkwargs)\n\u001b[0;32m     72\u001b[0m \u001b[39mexcept\u001b[39;00m Unauthorised \u001b[39mas\u001b[39;00m e:\n",
      "File \u001b[1;32mc:\\Users\\Heliomar\\Desktop\\clustering\\lib\\site-packages\\tekore\\_client\\decor\\__init__.py:21\u001b[0m, in \u001b[0;36msend_and_process.<locals>.parse_response\u001b[1;34m(request, response)\u001b[0m\n\u001b[0;32m     20\u001b[0m \u001b[39mdef\u001b[39;00m \u001b[39mparse_response\u001b[39m(request, response):\n\u001b[1;32m---> 21\u001b[0m     handle_errors(request, response)\n\u001b[0;32m     22\u001b[0m     \u001b[39mreturn\u001b[39;00m post_func(response\u001b[39m.\u001b[39mcontent)\n",
      "File \u001b[1;32mc:\\Users\\Heliomar\\Desktop\\clustering\\lib\\site-packages\\tekore\\_client\\decor\\handle.py:33\u001b[0m, in \u001b[0;36mhandle_errors\u001b[1;34m(request, response)\u001b[0m\n\u001b[0;32m     32\u001b[0m error_cls \u001b[39m=\u001b[39m get_error(response\u001b[39m.\u001b[39mstatus_code)\n\u001b[1;32m---> 33\u001b[0m \u001b[39mraise\u001b[39;00m error_cls(error_str, request\u001b[39m=\u001b[39mrequest, response\u001b[39m=\u001b[39mresponse)\n",
      "\u001b[1;31mTooManyRequests\u001b[0m: Error in https://api.spotify.com/v1/tracks/4BJqT0PrAfrxzMOxytFOIz:\n429: \n",
      "\nDuring handling of the above exception, another exception occurred:\n",
      "\u001b[1;31mTooManyRequests\u001b[0m                           Traceback (most recent call last)",
      "\u001b[1;32mc:\\Users\\Heliomar\\Documents\\PA_Grupo\\MusicMentor\\flask\\website\\music\\create_dePara.ipynb Cell 4\u001b[0m in \u001b[0;36m<cell line: 3>\u001b[1;34m()\u001b[0m\n\u001b[0;32m      <a href='vscode-notebook-cell:/c%3A/Users/Heliomar/Documents/PA_Grupo/MusicMentor/flask/website/music/create_dePara.ipynb#W2sZmlsZQ%3D%3D?line=6'>7</a>\u001b[0m \u001b[39mexcept\u001b[39;00m:\n\u001b[0;32m      <a href='vscode-notebook-cell:/c%3A/Users/Heliomar/Documents/PA_Grupo/MusicMentor/flask/website/music/create_dePara.ipynb#W2sZmlsZQ%3D%3D?line=7'>8</a>\u001b[0m     sleep(\u001b[39m2\u001b[39m)\n\u001b[1;32m----> <a href='vscode-notebook-cell:/c%3A/Users/Heliomar/Documents/PA_Grupo/MusicMentor/flask/website/music/create_dePara.ipynb#W2sZmlsZQ%3D%3D?line=8'>9</a>\u001b[0m     track_info \u001b[39m=\u001b[39m sp\u001b[39m.\u001b[39;49mtrack(track_id)\n\u001b[0;32m     <a href='vscode-notebook-cell:/c%3A/Users/Heliomar/Documents/PA_Grupo/MusicMentor/flask/website/music/create_dePara.ipynb#W2sZmlsZQ%3D%3D?line=9'>10</a>\u001b[0m \u001b[39m# Acesse o nome da faixa na resposta da API\u001b[39;00m\n\u001b[0;32m     <a href='vscode-notebook-cell:/c%3A/Users/Heliomar/Documents/PA_Grupo/MusicMentor/flask/website/music/create_dePara.ipynb#W2sZmlsZQ%3D%3D?line=10'>11</a>\u001b[0m track_name \u001b[39m=\u001b[39m track_info\u001b[39m.\u001b[39mname\n",
      "File \u001b[1;32mc:\\Users\\Heliomar\\Desktop\\clustering\\lib\\site-packages\\tekore\\_sender\\client.py:90\u001b[0m, in \u001b[0;36msend_and_process.<locals>.decorator.<locals>.wrapper\u001b[1;34m(self, *args, **kwargs)\u001b[0m\n\u001b[0;32m     87\u001b[0m     \u001b[39mreturn\u001b[39;00m async_send(\u001b[39mself\u001b[39m, request, params)\n\u001b[0;32m     89\u001b[0m response \u001b[39m=\u001b[39m \u001b[39mself\u001b[39m\u001b[39m.\u001b[39msend(request)\n\u001b[1;32m---> 90\u001b[0m \u001b[39mreturn\u001b[39;00m try_post_func(request, response, \u001b[39m*\u001b[39;49mparams)\n",
      "File \u001b[1;32mc:\\Users\\Heliomar\\Desktop\\clustering\\lib\\site-packages\\tekore\\_sender\\client.py:71\u001b[0m, in \u001b[0;36msend_and_process.<locals>.decorator.<locals>.try_post_func\u001b[1;34m(*args, **kwargs)\u001b[0m\n\u001b[0;32m     69\u001b[0m \u001b[39mdef\u001b[39;00m \u001b[39mtry_post_func\u001b[39m(\u001b[39m*\u001b[39margs, \u001b[39m*\u001b[39m\u001b[39m*\u001b[39mkwargs):\n\u001b[0;32m     70\u001b[0m     \u001b[39mtry\u001b[39;00m:\n\u001b[1;32m---> 71\u001b[0m         \u001b[39mreturn\u001b[39;00m post_func(\u001b[39m*\u001b[39margs, \u001b[39m*\u001b[39m\u001b[39m*\u001b[39mkwargs)\n\u001b[0;32m     72\u001b[0m     \u001b[39mexcept\u001b[39;00m Unauthorised \u001b[39mas\u001b[39;00m e:\n\u001b[0;32m     73\u001b[0m         e\u001b[39m.\u001b[39mscope \u001b[39m=\u001b[39m wrapper\u001b[39m.\u001b[39mscope\n",
      "File \u001b[1;32mc:\\Users\\Heliomar\\Desktop\\clustering\\lib\\site-packages\\tekore\\_client\\decor\\__init__.py:21\u001b[0m, in \u001b[0;36msend_and_process.<locals>.parse_response\u001b[1;34m(request, response)\u001b[0m\n\u001b[0;32m     20\u001b[0m \u001b[39mdef\u001b[39;00m \u001b[39mparse_response\u001b[39m(request, response):\n\u001b[1;32m---> 21\u001b[0m     handle_errors(request, response)\n\u001b[0;32m     22\u001b[0m     \u001b[39mreturn\u001b[39;00m post_func(response\u001b[39m.\u001b[39mcontent)\n",
      "File \u001b[1;32mc:\\Users\\Heliomar\\Desktop\\clustering\\lib\\site-packages\\tekore\\_client\\decor\\handle.py:33\u001b[0m, in \u001b[0;36mhandle_errors\u001b[1;34m(request, response)\u001b[0m\n\u001b[0;32m     27\u001b[0m error_str \u001b[39m=\u001b[39m error_format\u001b[39m.\u001b[39mformat(\n\u001b[0;32m     28\u001b[0m     url\u001b[39m=\u001b[39mresponse\u001b[39m.\u001b[39murl,\n\u001b[0;32m     29\u001b[0m     code\u001b[39m=\u001b[39mresponse\u001b[39m.\u001b[39mstatus_code,\n\u001b[0;32m     30\u001b[0m     msg\u001b[39m=\u001b[39mparse_error_reason(response),\n\u001b[0;32m     31\u001b[0m )\n\u001b[0;32m     32\u001b[0m error_cls \u001b[39m=\u001b[39m get_error(response\u001b[39m.\u001b[39mstatus_code)\n\u001b[1;32m---> 33\u001b[0m \u001b[39mraise\u001b[39;00m error_cls(error_str, request\u001b[39m=\u001b[39mrequest, response\u001b[39m=\u001b[39mresponse)\n",
      "\u001b[1;31mTooManyRequests\u001b[0m: Error in https://api.spotify.com/v1/tracks/4BJqT0PrAfrxzMOxytFOIz:\n429: \n"
     ]
    }
   ],
   "source": [
    "track_name_id_pairs = []\n",
    "\n",
    "for track_id in track_ids:\n",
    "    # Faça uma solicitação para obter informações da faixa com a ID correspondente\n",
    "    try:\n",
    "        track_info = sp.track(track_id)\n",
    "    except:\n",
    "        sleep(2)\n",
    "        track_info = sp.track(track_id)\n",
    "    # Acesse o nome da faixa na resposta da API\n",
    "    track_name = track_info.name\n",
    "\n",
    "    # Adicione o par nome de música e ID à lista de pares\n",
    "    track_name_id_pairs.append((track_name, track_id))\n",
    "\n",
    "\n"
   ]
  },
  {
   "cell_type": "code",
   "execution_count": null,
   "metadata": {},
   "outputs": [],
   "source": [
    "# Crie um novo dataframe com as colunas 'nome' e 'id'\n",
    "depara = pd.DataFrame(track_name_id_pairs, columns=['nome', 'id'])\n",
    "\n",
    "# Salve o novo dataset em um arquivo CSV\n",
    "depara.to_csv('spotify_data/music_id.csv', index=False)\n"
   ]
  }
 ],
 "metadata": {
  "kernelspec": {
   "display_name": "Python 3",
   "language": "python",
   "name": "python3"
  },
  "language_info": {
   "codemirror_mode": {
    "name": "ipython",
    "version": 3
   },
   "file_extension": ".py",
   "mimetype": "text/x-python",
   "name": "python",
   "nbconvert_exporter": "python",
   "pygments_lexer": "ipython3",
   "version": "3.10.0"
  },
  "orig_nbformat": 4
 },
 "nbformat": 4,
 "nbformat_minor": 2
}
